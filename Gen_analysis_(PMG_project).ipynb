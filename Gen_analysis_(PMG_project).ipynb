{
  "cells": [
    {
      "cell_type": "markdown",
      "metadata": {
        "id": "6GmD-A3O86K-"
      },
      "source": [
        "# Import Zone"
      ]
    },
    {
      "cell_type": "code",
      "source": [
        "import random\n",
        "import math\n",
        "import copy\n",
        "\n",
        "from sklearn.metrics import roc_curve, roc_auc_score\n",
        "import matplotlib.pyplot as plt"
      ],
      "metadata": {
        "id": "OqhFvNM7HgQF"
      },
      "execution_count": null,
      "outputs": []
    },
    {
      "cell_type": "markdown",
      "metadata": {
        "id": "LrWmthbQ-8Uq"
      },
      "source": [
        "# Play ground"
      ]
    },
    {
      "cell_type": "code",
      "execution_count": null,
      "metadata": {
        "id": "_cERVw8a7l2M"
      },
      "outputs": [],
      "source": [
        "def random_intial_matrix(rows, columns):\n",
        "  # This function gets the dimention of matrix\n",
        "  # and returns a 2D intial matrix with random 0,1 inputs\n",
        "  matrix = []\n",
        "\n",
        "  for i in range(rows):\n",
        "    row = [random.randint(0, 1) for j in range(columns)]\n",
        "    matrix.append(row)\n",
        "\n",
        "  # Preventing the self loop\n",
        "  for i in range(rows):\n",
        "    matrix[i][i] = 0\n",
        "\n",
        "  return matrix"
      ]
    },
    {
      "cell_type": "code",
      "execution_count": null,
      "metadata": {
        "id": "sT27XYDH-unO"
      },
      "outputs": [],
      "source": [
        "init_matrix = random_intial_matrix(10, 10)"
      ]
    },
    {
      "cell_type": "code",
      "execution_count": null,
      "metadata": {
        "colab": {
          "base_uri": "https://localhost:8080/"
        },
        "id": "srBbGQFXIydE",
        "outputId": "89527905-b5db-4693-f2b2-bdd8252a8446"
      },
      "outputs": [
        {
          "output_type": "execute_result",
          "data": {
            "text/plain": [
              "[[0, 1, 1, 0, 0, 0, 1, 0, 0, 0],\n",
              " [1, 0, 0, 0, 1, 0, 1, 1, 0, 0],\n",
              " [1, 0, 0, 1, 1, 1, 1, 0, 1, 0],\n",
              " [1, 0, 0, 0, 0, 1, 0, 0, 1, 0],\n",
              " [1, 1, 0, 1, 0, 1, 1, 0, 1, 0],\n",
              " [1, 1, 0, 0, 1, 0, 0, 1, 1, 0],\n",
              " [1, 1, 0, 1, 1, 0, 0, 0, 0, 0],\n",
              " [1, 1, 1, 1, 1, 1, 1, 0, 0, 1],\n",
              " [1, 1, 1, 1, 1, 0, 0, 1, 0, 1],\n",
              " [0, 1, 1, 0, 0, 0, 0, 1, 0, 0]]"
            ]
          },
          "metadata": {},
          "execution_count": 4
        }
      ],
      "source": [
        "init_matrix"
      ]
    },
    {
      "cell_type": "markdown",
      "metadata": {
        "id": "bBsbEeDfCIKf"
      },
      "source": [
        "## Discretization"
      ]
    },
    {
      "cell_type": "code",
      "execution_count": null,
      "metadata": {
        "id": "HWEL8EOa_Jnf"
      },
      "outputs": [],
      "source": [
        "def discretizer(matrix):\n",
        "  # ToDO(optional): can discrete with other methods like median, mode, ...\n",
        "\n",
        "  # This function gets a 2D array matrix (of genes, with any size)\n",
        "  # and discretes it with average of each column in the ways that\n",
        "  # if the cell is bigger than average of its column, value of\n",
        "  # cell will be 1, if not value of cell will be equal to zero.\n",
        "  # Then returns the discreted matrix.\n",
        "  dis_matrix = []\n",
        "  row_size = len(matrix)\n",
        "  col_size = len(matrix[0])\n",
        "\n",
        "  # Casting to float\n",
        "  matrix = [[float(value) for value in row] for row in dataset_10[1:]]\n",
        "\n",
        "  for c in range(col_size):\n",
        "    # Extracting columns\n",
        "    col = []\n",
        "    for row in matrix:\n",
        "      col.append(row[c])\n",
        "\n",
        "    # Discretization\n",
        "    average = sum(col) / len(col)\n",
        "    dis_col = []\n",
        "\n",
        "    for co in col:\n",
        "      if co < average:\n",
        "        dis_col.append(int(0))\n",
        "      else:\n",
        "        dis_col.append(int(1))\n",
        "\n",
        "    # Appending discreted columns\n",
        "    dis_matrix.append(dis_col)\n",
        "\n",
        "  # Transposing to get the final discreted matrix\n",
        "  dis_matrix = list(zip(*dis_matrix))\n",
        "  return dis_matrix"
      ]
    },
    {
      "cell_type": "code",
      "execution_count": null,
      "metadata": {
        "id": "gMURine2K3rd"
      },
      "outputs": [],
      "source": [
        "def dataset_reader(path):\n",
        "  import csv\n",
        "\n",
        "  # Specify the file path\n",
        "  file_path = path\n",
        "\n",
        "  # Initialization of dataset variable\n",
        "  dataset = []\n",
        "\n",
        "  # Open the file in read mode with the appropriate delimiter\n",
        "  with open(file_path, \"r\", newline=\"\") as _file:\n",
        "      # Create a CSV reader object\n",
        "      reader = csv.reader(_file, delimiter=\"\\t\")\n",
        "\n",
        "      # Iterate over each row in the file\n",
        "      for row in reader:\n",
        "          # Access individual columns using index\n",
        "          print(row)\n",
        "          dataset.append(row)\n",
        "  return dataset"
      ]
    },
    {
      "cell_type": "code",
      "execution_count": null,
      "metadata": {
        "colab": {
          "base_uri": "https://localhost:8080/"
        },
        "id": "QJDY7I5Aecg7",
        "outputId": "30b732ed-1745-4799-f305-c98937a8f054"
      },
      "outputs": [
        {
          "output_type": "stream",
          "name": "stdout",
          "text": [
            "['G1', 'G2', 'G3', 'G4', 'G5', 'G6', 'G7', 'G8', 'G9', 'G10']\n",
            "['0.7472648', '0.0145174', '0.2768379', '0.5924924', '0.1137333', '0.4199753', '0.6704619', '0.7873434', '0.5851015', '0.6379321']\n",
            "['0.1952416', '0.0666675', '0.4668403', '0.7665067', '0.5201448', '0.2495804', '0.3279500', '0.7170845', '0.7695890', '0.6548019']\n",
            "['0.7684065', '0.1396432', '0.1299352', '0.6305152', '0.0016216', '0.2795217', '0.5784058', '0.6209451', '0.5909760', '0.6678004']\n",
            "['0.4200291', '0.1071710', '0.3394158', '0.6284330', '0.2198180', '0.3295082', '0.6401604', '0.6728220', '0.4711612', '0.8043124']\n",
            "['0.6475681', '0.0236604', '0.3494707', '0.5407625', '0.0477348', '0.1340377', '0.5038767', '0.4542435', '0.6125342', '0.6828942']\n",
            "['0.2203427', '0.1879857', '0.3618787', '0.5945139', '0.4412289', '0.3384261', '0.4117165', '0.5654680', '0.6212083', '0.7913979']\n",
            "['0.6844843', '0.1317679', '0.1523321', '0.7433527', '0.1428599', '0.3288338', '0.6494312', '0.7461721', '0.8482142', '0.6229009']\n",
            "['0.5129848', '0.1413919', '0.4101096', '0.6492221', '0.0628648', '0.3404475', '0.4030242', '0.6686166', '0.7033350', '0.6574417']\n",
            "['0.6793074', '0.2225431', '0.4616032', '0.6674869', '0.0319569', '0.6963535', '0.4223407', '0.0246885', '0.7339145', '0.7638362']\n",
            "['0.4114508', '0.2648979', '0.5387698', '0.7322079', '0.2660955', '0.6220112', '0.1792414', '0.1225288', '0.6937271', '0.8356205']\n"
          ]
        }
      ],
      "source": [
        "dataset_path = '/content/10_1_multifactorial.tsv'\n",
        "dataset_10 = dataset_reader(dataset_path)"
      ]
    },
    {
      "cell_type": "code",
      "execution_count": null,
      "metadata": {
        "id": "R0fROEwfi3Xw"
      },
      "outputs": [],
      "source": [
        "discreted_dataset_10 = discretizer(dataset_10)"
      ]
    },
    {
      "cell_type": "code",
      "execution_count": null,
      "metadata": {
        "colab": {
          "base_uri": "https://localhost:8080/"
        },
        "id": "coiEaNAqHgBC",
        "outputId": "a32100a3-c834-4623-8b6d-8b526493b622"
      },
      "outputs": [
        {
          "output_type": "execute_result",
          "data": {
            "text/plain": [
              "[(1, 0, 0, 0, 0, 1, 1, 1, 0, 0),\n",
              " (0, 0, 1, 1, 1, 0, 0, 1, 1, 0),\n",
              " (1, 1, 0, 0, 0, 0, 1, 1, 0, 0),\n",
              " (0, 0, 0, 0, 1, 0, 1, 1, 0, 1),\n",
              " (1, 0, 1, 0, 0, 0, 1, 0, 0, 0),\n",
              " (0, 1, 1, 0, 1, 0, 0, 1, 0, 1),\n",
              " (1, 1, 0, 1, 0, 0, 1, 1, 1, 0),\n",
              " (0, 1, 1, 0, 0, 0, 0, 1, 1, 0),\n",
              " (1, 1, 1, 1, 0, 1, 0, 0, 1, 1),\n",
              " (0, 1, 1, 1, 1, 1, 0, 0, 1, 1)]"
            ]
          },
          "metadata": {},
          "execution_count": 9
        }
      ],
      "source": [
        "discreted_dataset_10"
      ]
    },
    {
      "cell_type": "markdown",
      "metadata": {
        "id": "1Y_FTUqtCgja"
      },
      "source": [
        "## Calculating the score of Matrix (graph)"
      ]
    },
    {
      "cell_type": "code",
      "execution_count": null,
      "metadata": {
        "id": "tWRu51zvxaPn"
      },
      "outputs": [],
      "source": [
        "def dependency_finder(matrix):\n",
        "  # This function is for finding the dependencies in a graph.\n",
        "  # As an input, it gets the matrix of nodes(genes) relations\n",
        "  # and returns all the dependencies.\n",
        "  # We suppose that there is an edge from row to column (row =egde=> col)\n",
        "  one_parent_tuples = []\n",
        "\n",
        "  # Extracting all depenedncies with one edge(one parent)\n",
        "  for index_row, row in enumerate(matrix):\n",
        "    for index_col, col in enumerate(row):\n",
        "      if col == 1:\n",
        "        dependency = [index_row, index_col]\n",
        "        one_parent_tuples.append(dependency)\n",
        "\n",
        "  all_tuples = []\n",
        "  child_genes = []\n",
        "\n",
        "  # Finding all child nodes(genes)\n",
        "  for tup in one_parent_tuples:\n",
        "    child_gene = tup[-1]\n",
        "    if child_gene not in child_genes:\n",
        "      child_genes.append(child_gene)\n",
        "\n",
        "  # Fixing the previous tuple with nodes(genes) with more that one parent\n",
        "  for child in child_genes:\n",
        "    temp_tuple = []\n",
        "    for tup in one_parent_tuples:\n",
        "      if child == tup[-1]:\n",
        "        for node in tup[:-1]:\n",
        "          temp_tuple.append(node)\n",
        "    temp_tuple.append(child)\n",
        "    all_tuples.append(temp_tuple)\n",
        "\n",
        "  # Checking if there is a node without child, then appending\n",
        "  # it to the all tuples\n",
        "  for col_index in range(len(matrix)):\n",
        "    column = [row[col_index] for row in matrix]\n",
        "\n",
        "    flage_no_parent = 0\n",
        "    for element in column:\n",
        "      if element == 1:\n",
        "        flage_no_parent = 1\n",
        "    if flage_no_parent == 0:\n",
        "      all_tuples.append([col_index])\n",
        "\n",
        "  return all_tuples"
      ]
    },
    {
      "cell_type": "code",
      "execution_count": null,
      "metadata": {
        "id": "SbWDudSAMj2Q"
      },
      "outputs": [],
      "source": [
        "def sequence_extractor(sequence, given_array):\n",
        "  # This function gets an array of sequence to create\n",
        "  # an array from given_array with the sequence indexes\n",
        "  # and return it. Note that sequence is zero-based.\n",
        "  seq_array = []\n",
        "\n",
        "  for index in sequence:\n",
        "    seq_array.append(given_array[index])\n",
        "\n",
        "  return seq_array"
      ]
    },
    {
      "cell_type": "code",
      "execution_count": null,
      "metadata": {
        "id": "LcaxEacZH8QZ"
      },
      "outputs": [],
      "source": [
        "def likelihood_calculation(discrete_dataset, graph_depen):\n",
        "  # This function is for calcualting the likelihood of given dependency\n",
        "  # graph(matrix) based on the dataset (probability of occuring the\n",
        "  # dependency graph) and returns the probability of each node (gene)\n",
        "\n",
        "  import math\n",
        "\n",
        "  # Finding different states of each dependency (for the numerator)\n",
        "  # creating a list of lists for each graph dependency:\n",
        "  all_up_dependecies_states = []\n",
        "\n",
        "  for depen in graph_depen:\n",
        "    states_up = []\n",
        "    for test in discrete_dataset:\n",
        "      state = sequence_extractor(depen, test)\n",
        "\n",
        "      if state not in states_up:\n",
        "        states_up.append(state)\n",
        "    all_up_dependecies_states.append(states_up)\n",
        "\n",
        "  # Finding different states of each dependency (for the denominator)\n",
        "  # creating a list of lists for each graph dependency:\n",
        "  all_down_dependecies_states = []\n",
        "\n",
        "  for depen in graph_depen:\n",
        "    states_down = []\n",
        "    depen_just_parents = depen[:-1]\n",
        "    for test in discrete_dataset:\n",
        "      state = sequence_extractor(depen_just_parents, test)\n",
        "\n",
        "      if state not in states_down:\n",
        "        states_down.append(state)\n",
        "    all_down_dependecies_states.append(states_down)\n",
        "\n",
        "  # Calculating probabilty of each state by counting\n",
        "  # Counting for the nominator\n",
        "  # Counting the up (nominator of prob =>ex. p(g1|g4) )\n",
        "  # Note: We supose that the order of states_counts is like dependency array\n",
        "  states_counts_up = []\n",
        "  for _, up_states in enumerate(all_up_dependecies_states):\n",
        "    depen = graph_depen[_]\n",
        "    depen_state_counters = []\n",
        "    for up_st in up_states:\n",
        "      counter = 0\n",
        "      for test in discrete_dataset:\n",
        "        temp = sequence_extractor(depen, test)\n",
        "        if temp == up_st:\n",
        "          counter += 1\n",
        "      depen_state_counters.append([counter, up_st[:-1]])\n",
        "    depen_state_counters.append(depen[-1])\n",
        "    states_counts_up.append(depen_state_counters)\n",
        "\n",
        "  # print(f\"states_counts_up: {states_counts_up}\")\n",
        "\n",
        "  # Counting the for denominator\n",
        "  # Counting the down (denominator of prob =>ex. p(g1|g4) )\n",
        "  states_counts_down = []\n",
        "  for _, down_states in enumerate(all_down_dependecies_states):\n",
        "    child = graph_depen[_][-1]\n",
        "    depen = graph_depen[_][:-1]\n",
        "    depen_state_counters = []\n",
        "    for down_st in down_states:\n",
        "      counter = 0\n",
        "      for test in discrete_dataset:\n",
        "        temp = sequence_extractor(depen, test)\n",
        "        if temp == down_st:\n",
        "          counter += 1\n",
        "      depen_state_counters.append([counter, down_st])\n",
        "    depen_state_counters.append(child)\n",
        "    states_counts_down.append(depen_state_counters)\n",
        "\n",
        "  # print(f\"states_counts_down: {states_counts_down}\")\n",
        "\n",
        "  # Calculating probs of different states then multiplying them\n",
        "  # Ex.states_counts_up: [[1, [0]], [2, [1]], [1, [0]], 1] => last element is the gene's number\n",
        "\n",
        "  probs_of_genes = []\n",
        "  for _, count_states_gene in enumerate(states_counts_up):\n",
        "\n",
        "    likelihood_gene = 0\n",
        "\n",
        "    # Last element of count_states_gene is the id of the gene\n",
        "    for count_state_gene in count_states_gene[:-1]:\n",
        "      numerator = count_state_gene[0]\n",
        "      state = count_state_gene[1]\n",
        "\n",
        "      # Last element of states_counts_down is the id of the gene\n",
        "      for counts in states_counts_down[_][:-1]:\n",
        "        if counts[1] == state:\n",
        "          denumerator = counts[0]\n",
        "\n",
        "\n",
        "      p = numerator / denumerator\n",
        "      likelihood_gene += (math.log(p) * numerator)\n",
        "\n",
        "    probs_of_genes.append([likelihood_gene, count_states_gene[-1]])\n",
        "  return probs_of_genes, all_down_dependecies_states"
      ]
    },
    {
      "cell_type": "code",
      "source": [
        "def LH_genes_multiplier(likelihoods):\n",
        "  # This function multiples the probability of\n",
        "  # all nodes(genes) and returns the final likelihood\n",
        "\n",
        "  likelihood = 0\n",
        "  for gene_lh in likelihoods:\n",
        "    lh = gene_lh[0]\n",
        "    likelihood += lh\n",
        "\n",
        "  return likelihood"
      ],
      "metadata": {
        "id": "buDYErFuGRkz"
      },
      "execution_count": null,
      "outputs": []
    },
    {
      "cell_type": "code",
      "execution_count": null,
      "metadata": {
        "id": "rWMrhT00eTKv"
      },
      "outputs": [],
      "source": [
        "def parameter_counter(genes_states_down):\n",
        "  # This function gets the down(denumerator) states and counts\n",
        "  # the amount of parameters, which is required for calculating BIC\n",
        "  parameters_count = 0\n",
        "\n",
        "  for gene_states in genes_states_down:\n",
        "    parameters_count += len(gene_states)\n",
        "\n",
        "  return parameters_count"
      ]
    },
    {
      "cell_type": "code",
      "execution_count": null,
      "metadata": {
        "id": "xvn4OcNogoiG"
      },
      "outputs": [],
      "source": [
        "def calculater_of_BIC(likelihoods, k, n):\n",
        "  # This function gets likelihoods, k which is number of\n",
        "  # parameters, n which is number of data points and then\n",
        "  # calculates the BIC of graph by this formula:\n",
        "  # BIC = -2 * log(L) + k * log(n)\n",
        "  import math\n",
        "\n",
        "  likelihood = 0\n",
        "  for gene_lh in likelihoods:\n",
        "    lh = gene_lh[0]\n",
        "    likelihood += lh\n",
        "\n",
        "  # print(likelihood)\n",
        "  BIC = (-2) * likelihood + k * (math.log(n))\n",
        "\n",
        "  return BIC"
      ]
    },
    {
      "cell_type": "code",
      "source": [
        "def possible_to_add(matrix):\n",
        "  # This function is for checking if it\n",
        "  # is possible to add a new edge or not\n",
        "  for i in range(len(matrix)):\n",
        "    for j in range(len(matrix)):\n",
        "      if i == j:\n",
        "        continue\n",
        "      if matrix[i][j] == 0:\n",
        "        return True\n",
        "  return False"
      ],
      "metadata": {
        "id": "_O9M6LNAEky0"
      },
      "execution_count": null,
      "outputs": []
    },
    {
      "cell_type": "code",
      "source": [
        "def possible_to_remove(matrix):\n",
        "  # This function is for checking if it\n",
        "  # is possible to remove an edge or not\n",
        "  for i in range(len(matrix)):\n",
        "    for j in range(len(matrix)):\n",
        "      if i == j:\n",
        "        continue\n",
        "      if matrix[i][j] == 1:\n",
        "        return True\n",
        "  return False"
      ],
      "metadata": {
        "id": "qVR6eymvGTgn"
      },
      "execution_count": null,
      "outputs": []
    },
    {
      "cell_type": "code",
      "source": [
        "def possible_to_reverse(matrix):\n",
        "  # This function is for checking if it\n",
        "  # is possible to reverse an edge or not\n",
        "  for i in range(len(matrix)):\n",
        "    for j in range(len(matrix)):\n",
        "      if i == j:\n",
        "        continue\n",
        "      if matrix[i][j] == 0 and matrix[j][i] == 1:\n",
        "        return True\n",
        "      if matrix[i][j] == 1 and matrix[j][i] == 0:\n",
        "        return True\n",
        "  return False"
      ],
      "metadata": {
        "id": "dWnuf8XPGaOx"
      },
      "execution_count": null,
      "outputs": []
    },
    {
      "cell_type": "code",
      "execution_count": null,
      "metadata": {
        "id": "VWbPQzZckOFf"
      },
      "outputs": [],
      "source": [
        "def new_matrix_proposer(pre_matrix):\n",
        "  # This function gets the previous matrix and change it in one of\n",
        "  # add, remove or reverse an edge ways with equal chance (= 1/3)\n",
        "  # then propose a new matrix\n",
        "  import copy\n",
        "\n",
        "  previous_matrix = copy.deepcopy(pre_matrix)\n",
        "\n",
        "  import random\n",
        "  random_number = random.randint(1, 3)\n",
        "\n",
        "  # print(previous_matrix)\n",
        "\n",
        "  # Checking if it posible to do the operation\n",
        "  # or not. If not creating another random number.\n",
        "  possibilty_flage = False\n",
        "  while not possibilty_flage:\n",
        "    if random_number == 1:\n",
        "      # Checking possibility of add\n",
        "      if possible_to_add(previous_matrix) == False:\n",
        "        random_number = random.randint(1, 3)\n",
        "      else:\n",
        "        possibilty_flage = True\n",
        "\n",
        "    if random_number == 2:\n",
        "      # Checking possibility of remove\n",
        "      if possible_to_remove(previous_matrix) == False:\n",
        "        random_number = random.randint(1, 3)\n",
        "      else:\n",
        "        possibilty_flage = True\n",
        "\n",
        "    if random_number == 3:\n",
        "      # Checking possibility of remove\n",
        "      if possible_to_reverse(previous_matrix) == False:\n",
        "        random_number = random.randint(1, 3)\n",
        "      else:\n",
        "        possibilty_flage = True\n",
        "\n",
        "  # Proposing!\n",
        "  # print(random_number)\n",
        "\n",
        "  if random_number == 1:\n",
        "    # Adding a new edge\n",
        "    add_done_flage = False\n",
        "    while not add_done_flage:\n",
        "      rand_row = random.randint(0, len(previous_matrix)-1)\n",
        "      rand_col = random.randint(0, len(previous_matrix[0])-1)\n",
        "\n",
        "      if rand_row == rand_col:\n",
        "        continue\n",
        "\n",
        "      if previous_matrix[rand_row][rand_col] == 0:\n",
        "        previous_matrix[rand_row][rand_col] = 1\n",
        "        add_done_flage = True\n",
        "\n",
        "    new_proposed_matrix = previous_matrix\n",
        "\n",
        "  elif random_number == 2:\n",
        "    # Removing an edge\n",
        "    remove_done_flage = False\n",
        "    while not remove_done_flage:\n",
        "      rand_row = random.randint(0, len(previous_matrix)-1)\n",
        "      rand_col = random.randint(0, len(previous_matrix[0])-1)\n",
        "\n",
        "      if rand_row == rand_col:\n",
        "        continue\n",
        "\n",
        "      if previous_matrix[rand_row][rand_col] == 1:\n",
        "        previous_matrix[rand_row][rand_col] = 0\n",
        "        remove_done_flage = True\n",
        "\n",
        "    new_proposed_matrix = previous_matrix\n",
        "\n",
        "  elif random_number == 3:\n",
        "    # Revesing an edge\n",
        "    reverse_done_flage = False\n",
        "\n",
        "    while not reverse_done_flage:\n",
        "      rand_row = random.randint(0, len(previous_matrix)-1)\n",
        "      rand_col = random.randint(0, len(previous_matrix[0])-1)\n",
        "\n",
        "      if (rand_row == rand_col) or previous_matrix[rand_row][rand_col] == 0:\n",
        "        continue\n",
        "\n",
        "      reverse_done_flage = True\n",
        "\n",
        "    previous_matrix[rand_row][rand_col] = 0\n",
        "    previous_matrix[rand_col][rand_row] = 1\n",
        "\n",
        "    new_proposed_matrix = previous_matrix\n",
        "\n",
        "  # operations = [\"add\", \"remove\", \"reverse\"]\n",
        "  # print(f\"<<{operations[random_number-1]}>> has applied to previous matrix,\", end=\" \")\n",
        "  # print(f\"on pose [{rand_row}, {rand_col}]. \\n\")\n",
        "\n",
        "  return new_proposed_matrix"
      ]
    },
    {
      "cell_type": "code",
      "execution_count": null,
      "metadata": {
        "id": "krL_Cbpaqr_6"
      },
      "outputs": [],
      "source": [
        "graph_dependency = dependency_finder(init_matrix)"
      ]
    },
    {
      "cell_type": "code",
      "execution_count": null,
      "metadata": {
        "colab": {
          "base_uri": "https://localhost:8080/"
        },
        "id": "gu5vJvPkJm4g",
        "outputId": "78875564-f882-4ee7-948d-ab9d68ac80ea"
      },
      "outputs": [
        {
          "output_type": "execute_result",
          "data": {
            "text/plain": [
              "[(1, 0, 0, 0, 0, 1, 1, 1, 0, 0),\n",
              " (0, 0, 1, 1, 1, 0, 0, 1, 1, 0),\n",
              " (1, 1, 0, 0, 0, 0, 1, 1, 0, 0),\n",
              " (0, 0, 0, 0, 1, 0, 1, 1, 0, 1),\n",
              " (1, 0, 1, 0, 0, 0, 1, 0, 0, 0),\n",
              " (0, 1, 1, 0, 1, 0, 0, 1, 0, 1),\n",
              " (1, 1, 0, 1, 0, 0, 1, 1, 1, 0),\n",
              " (0, 1, 1, 0, 0, 0, 0, 1, 1, 0),\n",
              " (1, 1, 1, 1, 0, 1, 0, 0, 1, 1),\n",
              " (0, 1, 1, 1, 1, 1, 0, 0, 1, 1)]"
            ]
          },
          "metadata": {},
          "execution_count": 52
        }
      ],
      "source": [
        "discreted_dataset_10"
      ]
    },
    {
      "cell_type": "code",
      "execution_count": null,
      "metadata": {
        "colab": {
          "base_uri": "https://localhost:8080/"
        },
        "id": "AZu7T4kiH-jr",
        "outputId": "450b3a5c-97cd-4956-ba37-022b6f24aeb3"
      },
      "outputs": [
        {
          "output_type": "execute_result",
          "data": {
            "text/plain": [
              "[[0, 4, 5, 6, 7, 8, 9, 1],\n",
              " [0, 7, 8, 9, 2],\n",
              " [0, 1, 2, 4, 7, 6],\n",
              " [1, 2, 3, 4, 5, 6, 7, 8, 0],\n",
              " [1, 2, 5, 6, 7, 8, 4],\n",
              " [1, 5, 8, 9, 7],\n",
              " [2, 4, 6, 7, 8, 3],\n",
              " [2, 3, 4, 7, 5],\n",
              " [2, 3, 4, 5, 8],\n",
              " [7, 8, 9]]"
            ]
          },
          "metadata": {},
          "execution_count": 53
        }
      ],
      "source": [
        "graph_dependency"
      ]
    },
    {
      "cell_type": "code",
      "execution_count": null,
      "metadata": {
        "id": "b0bmPzpB59PR"
      },
      "outputs": [],
      "source": [
        "genes_likelihood, states_down = likelihood_calculation(discreted_dataset_10, graph_dependency)"
      ]
    },
    {
      "cell_type": "code",
      "execution_count": null,
      "metadata": {
        "colab": {
          "base_uri": "https://localhost:8080/"
        },
        "id": "lMQ-H_Eifd43",
        "outputId": "a72167c6-3168-4e5f-9480-7886d9eda0a1"
      },
      "outputs": [
        {
          "output_type": "execute_result",
          "data": {
            "text/plain": [
              "84"
            ]
          },
          "metadata": {},
          "execution_count": 55
        }
      ],
      "source": [
        "parameter_counter(states_down)"
      ]
    },
    {
      "cell_type": "code",
      "execution_count": null,
      "metadata": {
        "colab": {
          "base_uri": "https://localhost:8080/"
        },
        "id": "iClMK3Q5VFec",
        "outputId": "e7b44bba-e883-4cc1-e00b-5eebb508cb39"
      },
      "outputs": [
        {
          "output_type": "execute_result",
          "data": {
            "text/plain": [
              "[[0.0, 1],\n",
              " [-1.3862943611198906, 2],\n",
              " [0.0, 6],\n",
              " [0.0, 0],\n",
              " [-1.3862943611198906, 4],\n",
              " [0.0, 7],\n",
              " [0.0, 3],\n",
              " [-1.3862943611198906, 5],\n",
              " [-1.3862943611198906, 8],\n",
              " [-2.772588722239781, 9]]"
            ]
          },
          "metadata": {},
          "execution_count": 56
        }
      ],
      "source": [
        "genes_likelihood"
      ]
    },
    {
      "cell_type": "code",
      "source": [
        "LH_genes_multiplier(genes_likelihood)"
      ],
      "metadata": {
        "colab": {
          "base_uri": "https://localhost:8080/"
        },
        "id": "xJTOdA0QSH_G",
        "outputId": "65223c33-87e9-41b5-ed73-bd7008296d54"
      },
      "execution_count": null,
      "outputs": [
        {
          "output_type": "execute_result",
          "data": {
            "text/plain": [
              "-8.317766166719343"
            ]
          },
          "metadata": {},
          "execution_count": 57
        }
      ]
    },
    {
      "cell_type": "code",
      "execution_count": null,
      "metadata": {
        "colab": {
          "base_uri": "https://localhost:8080/"
        },
        "id": "2Iraq51yiv4e",
        "outputId": "c5e330e5-df61-42b4-d1ff-677f21aaadcc"
      },
      "outputs": [
        {
          "output_type": "execute_result",
          "data": {
            "text/plain": [
              "210.05268014493853"
            ]
          },
          "metadata": {},
          "execution_count": 58
        }
      ],
      "source": [
        "n = len(discreted_dataset_10)\n",
        "k = parameter_counter(states_down)\n",
        "\n",
        "calculater_of_BIC(genes_likelihood, k, n)"
      ]
    },
    {
      "cell_type": "markdown",
      "metadata": {
        "id": "fZMe6KSsVszj"
      },
      "source": [
        "## Metropolice Hastings"
      ]
    },
    {
      "cell_type": "code",
      "source": [
        "def metropolice_hastings_acceptence_LH(last_accepted_matrix, proposed_matrix, discrete_dataset):\n",
        "  # This function is for deciding wheather accepting a proposed\n",
        "  # graph or not, by getting last accepted proposed matrix, the\n",
        "  # new proposed matrix and also the related dataset then calculating\n",
        "  # likelihood\n",
        "\n",
        "  last_accepted_depen_graph = dependency_finder(last_accepted_matrix)\n",
        "  LH_last_accepted_matrix, down_states = likelihood_calculation(discrete_dataset, last_accepted_depen_graph)\n",
        "  # print(LH_last_accepted_matrix)\n",
        "  # Calculating the score of likelihood of matrix\n",
        "  LH_score_last_accepted_matrix = LH_genes_multiplier(LH_last_accepted_matrix)\n",
        "\n",
        "  new_proposed_depen_graph = dependency_finder(proposed_matrix)\n",
        "  LH_new_proposed_matrix, down_states = likelihood_calculation(discrete_dataset, new_proposed_depen_graph)\n",
        "  # print(LH_new_proposed_matrix)\n",
        "  # Calculating the score of likelihood of matrix\n",
        "  LH_score_new_proposed_matrix = LH_genes_multiplier(LH_new_proposed_matrix)\n",
        "\n",
        "  # print(LH_score_last_accepted_matrix)\n",
        "  metro_police_measure = min(1, (LH_score_new_proposed_matrix / LH_score_last_accepted_matrix))\n",
        "\n",
        "  chance = random.random()\n",
        "  if metro_police_measure >= chance:\n",
        "    accepted_flage = True\n",
        "  else:\n",
        "    accepted_flage = False\n",
        "\n",
        "  return LH_score_new_proposed_matrix, accepted_flage"
      ],
      "metadata": {
        "id": "27sfHnyo6TZ6"
      },
      "execution_count": null,
      "outputs": []
    },
    {
      "cell_type": "code",
      "execution_count": null,
      "metadata": {
        "id": "rFPIxjVWUAbq"
      },
      "outputs": [],
      "source": [
        "def metropolice_hastings_acceptence_BIC(last_accepted_matrix, proposed_matrix, discrete_dataset):\n",
        "  # This function is for deciding wheather accepting a proposed\n",
        "  # graph or not, by getting last accepted proposed matrix, the\n",
        "  # new proposed matrix and also the related dataset then calculating\n",
        "  # BIC\n",
        "\n",
        "  last_accepted_depen_graph = dependency_finder(last_accepted_matrix)\n",
        "  LH_last_accepted_matrix, down_states = likelihood_calculation(discrete_dataset, last_accepted_depen_graph)\n",
        "  k = parameter_counter(down_states)\n",
        "  n = len(discrete_dataset)\n",
        "  last_accepted_BIC = calculater_of_BIC(LH_last_accepted_matrix, k, n)\n",
        "\n",
        "  new_proposed_depen_graph = dependency_finder(proposed_matrix)\n",
        "  LH_new_proposed_matrix, down_states = likelihood_calculation(discrete_dataset, new_proposed_depen_graph)\n",
        "  k = parameter_counter(down_states)\n",
        "  n = len(discrete_dataset)\n",
        "  new_proposed_BIC = calculater_of_BIC(LH_last_accepted_matrix, k, n)\n",
        "\n",
        "  if last_accepted_BIC == 0:\n",
        "    return last_accepted_BIC, False\n",
        "    # last_accepted_BIC += 1\n",
        "\n",
        "  metro_police_measure = min(1, (new_proposed_BIC / last_accepted_BIC))\n",
        "\n",
        "  chance = random.random()\n",
        "  if metro_police_measure >= chance:\n",
        "    accepted_flage = True\n",
        "  else:\n",
        "    accepted_flage = False\n",
        "\n",
        "  return new_proposed_BIC, accepted_flage"
      ]
    },
    {
      "cell_type": "code",
      "execution_count": null,
      "metadata": {
        "id": "Betz1VoGDCoK"
      },
      "outputs": [],
      "source": [
        "def graph_fitter(intial_matrix, discreted_dataset, measure):\n",
        "  # Array of proposed matrixes\n",
        "  proposed_matrixes = []\n",
        "  # Array of scores of matrixes\n",
        "  score_values = []\n",
        "\n",
        "  proposed_matrixes.append(intial_matrix)\n",
        "\n",
        "  # Fitting the matrix!\n",
        "  from IPython.display import clear_output\n",
        "  epochs = 1000\n",
        "\n",
        "  for _ in range(epochs):\n",
        "    # Clear the current cell's output\n",
        "    clear_output(wait=True)\n",
        "    print(f\"{_ + 1}/{epochs}\")\n",
        "\n",
        "    new_proposed_matrix = new_matrix_proposer(proposed_matrixes[-1])\n",
        "\n",
        "    if measure == \"BIC\":\n",
        "      # print(score_values[-3:])\n",
        "\n",
        "      BIC_value, accepted = metropolice_hastings_acceptence_BIC(proposed_matrixes[-1], new_proposed_matrix, discreted_dataset)\n",
        "      score_values.append(BIC_value)\n",
        "\n",
        "      # if BIC_value == 0:\n",
        "      #   break\n",
        "\n",
        "    if measure == \"LH\":\n",
        "      LH_value, accepted = metropolice_hastings_acceptence_LH(proposed_matrixes[-1], new_proposed_matrix, discreted_dataset)\n",
        "      score_values.append(LH_value)\n",
        "\n",
        "      # if LH_value == 0:\n",
        "      #   break\n",
        "\n",
        "    if accepted == True:\n",
        "      proposed_matrixes.append(new_proposed_matrix)\n",
        "    else:\n",
        "      proposed_matrixes.append(proposed_matrixes[-1])\n",
        "\n",
        "  return proposed_matrixes, score_values"
      ]
    },
    {
      "cell_type": "code",
      "execution_count": null,
      "metadata": {
        "id": "l5r0CxH2Tpep"
      },
      "outputs": [],
      "source": [
        "# Array of initial matrixes\n",
        "intial_matrixes = []\n",
        "\n",
        "branches_number = 3\n",
        "for _ in range(branches_number):\n",
        "  init_matrix = random_intial_matrix(10, 10)\n",
        "  intial_matrixes.append(init_matrix)"
      ]
    },
    {
      "cell_type": "code",
      "source": [
        "# Fitting the graphs by LH\n",
        "storage_different_branches_propoesd_matrixes_LH = []\n",
        "storage_different_branches_LH_scores = []\n",
        "\n",
        "measure = \"LH\"\n",
        "for initial_matrix in intial_matrixes:\n",
        "  proposed_matrixes, score_values = graph_fitter(initial_matrix, discreted_dataset_10, measure)\n",
        "  storage_different_branches_propoesd_matrixes_LH.append(proposed_matrixes)\n",
        "  storage_different_branches_LH_scores.append(score_values)"
      ],
      "metadata": {
        "colab": {
          "base_uri": "https://localhost:8080/"
        },
        "id": "FRoaEpgXHls_",
        "outputId": "bd6dd15b-bf02-49ab-e313-94417706705d"
      },
      "execution_count": null,
      "outputs": [
        {
          "output_type": "stream",
          "name": "stdout",
          "text": [
            "1000/1000\n"
          ]
        }
      ]
    },
    {
      "cell_type": "code",
      "source": [
        "# Fitting the graphs by BIC\n",
        "storage_different_branches_propoesd_matrixes_BIC = []\n",
        "storage_different_branches_BIC_scores = []\n",
        "\n",
        "measure = \"BIC\"\n",
        "for initial_matrix in intial_matrixes:\n",
        "  proposed_matrixes, score_values = graph_fitter(initial_matrix, discreted_dataset_10, measure)\n",
        "  storage_different_branches_propoesd_matrixes_BIC.append(proposed_matrixes)\n",
        "  storage_different_branches_BIC_scores.append(score_values)"
      ],
      "metadata": {
        "id": "pjGWFyVdpAh7",
        "colab": {
          "base_uri": "https://localhost:8080/"
        },
        "outputId": "47a7b7a4-79d8-4b05-fda0-e2044cc78fa9"
      },
      "execution_count": null,
      "outputs": [
        {
          "output_type": "stream",
          "name": "stdout",
          "text": [
            "1000/1000\n"
          ]
        }
      ]
    },
    {
      "cell_type": "code",
      "source": [
        "import matplotlib.pyplot as plt\n",
        "\n",
        "# Changing width and height\n",
        "plt.figure(figsize=(10, 6))\n",
        "\n",
        "# Plotting the likelihood values array\n",
        "for branch in storage_different_branches_LH_scores:\n",
        "  plt.plot(branch)\n",
        "\n",
        "plt.xlabel('Epoch')\n",
        "plt.ylabel('Likelihood')\n",
        "plt.title('LH Values')\n",
        "plt.show()"
      ],
      "metadata": {
        "colab": {
          "base_uri": "https://localhost:8080/",
          "height": 564
        },
        "id": "kL5OytieLcNS",
        "outputId": "e4b03a4e-7c31-4855-b32c-55a3da2f9264"
      },
      "execution_count": null,
      "outputs": [
        {
          "output_type": "display_data",
          "data": {
            "text/plain": [
              "<Figure size 1000x600 with 1 Axes>"
            ],
            "image/png": "[encoded data removed]"
          },
          "metadata": {}
        }
      ]
    },
    {
      "cell_type": "code",
      "source": [
        "import matplotlib.pyplot as plt\n",
        "\n",
        "# Changing width and height\n",
        "plt.figure(figsize=(10, 6))\n",
        "\n",
        "# Plotting the likelihood values array\n",
        "for branch in storage_different_branches_BIC_scores:\n",
        "  plt.plot(branch)\n",
        "\n",
        "plt.xlabel('Epoch')\n",
        "plt.ylabel('BIC')\n",
        "plt.title('BIC Values')\n",
        "plt.show()"
      ],
      "metadata": {
        "id": "yL5C5KZiK9Wr",
        "colab": {
          "base_uri": "https://localhost:8080/",
          "height": 564
        },
        "outputId": "089ff08f-ef37-491b-d9c4-729921afcfd7"
      },
      "execution_count": null,
      "outputs": [
        {
          "output_type": "display_data",
          "data": {
            "text/plain": [
              "<Figure size 1000x600 with 1 Axes>"
            ],
            "image/png": "[encoded data removed]"
          },
          "metadata": {}
        }
      ]
    },
    {
      "cell_type": "markdown",
      "source": [
        "## Getting final matrix"
      ],
      "metadata": {
        "id": "DJucEn4swvuU"
      }
    },
    {
      "cell_type": "code",
      "source": [
        "# Getting the last 10 percent of all matrixes of branches (burning period)\n",
        "# By BIC measure\n",
        "each_branch_matrixes_length = len(storage_different_branches_propoesd_matrixes_BIC[1])\n",
        "burning_period_count = int(each_branch_matrixes_length * 0.1)\n",
        "\n",
        "best_graphs_of_branches = []\n",
        "for branch in storage_different_branches_propoesd_matrixes_BIC:\n",
        "  matrixes = branch[(-1 * burning_period_count):]\n",
        "  best_graphs_of_branches.append(matrixes)"
      ],
      "metadata": {
        "id": "nNma8X1PwrZO"
      },
      "execution_count": null,
      "outputs": []
    },
    {
      "cell_type": "code",
      "source": [
        "# Calculating average of each edge of last 10 percent graphs\n",
        "length_of_a_matrix = int(len(best_graphs_of_branches[0][0]))\n",
        "branch_count = len(storage_different_branches_propoesd_matrixes_BIC)\n",
        "\n",
        "# Creating a matrix of averages for each of branches\n",
        "average_branch_matrixes = []\n",
        "for _ in range(branch_count):\n",
        "  average_of_10_percent_graph = []\n",
        "  for i in range(length_of_a_matrix):\n",
        "    row = [0 for j in range(length_of_a_matrix)]\n",
        "    average_of_10_percent_graph.append(row)\n",
        "\n",
        "  average_branch_matrixes.append(average_of_10_percent_graph)\n",
        "\n",
        "each_branch_count = len(best_graphs_of_branches[0])\n",
        "for index, branch in enumerate(best_graphs_of_branches):\n",
        "  # Getting average of last 10 percent of matrixes\n",
        "  this_branch_average = average_branch_matrixes[index]\n",
        "  for row in range(length_of_a_matrix):\n",
        "    for col in range(length_of_a_matrix):\n",
        "      for matrix in (branch):\n",
        "        this_branch_average[row][col] += matrix[row][col]\n",
        "      this_branch_average[row][col] = this_branch_average[row][col] / each_branch_count"
      ],
      "metadata": {
        "id": "P4eSQz6W19DT"
      },
      "execution_count": null,
      "outputs": []
    },
    {
      "cell_type": "code",
      "source": [
        "average_branch_matrixes"
      ],
      "metadata": {
        "colab": {
          "base_uri": "https://localhost:8080/"
        },
        "id": "7uAkcKPEWc-s",
        "outputId": "14fff52e-a50b-4305-b52b-030c030a8fde"
      },
      "execution_count": null,
      "outputs": [
        {
          "output_type": "execute_result",
          "data": {
            "text/plain": [
              "[[[0.0, 0.0, 0.0, 0.79, 0.0, 0.32, 0.0, 0.0, 0.32, 0.09],\n",
              "  [0.01, 0.0, 0.0, 0.0, 0.63, 0.88, 0.0, 0.57, 0.0, 0.07],\n",
              "  [0.35, 0.0, 0.0, 0.0, 0.0, 0.17, 0.56, 0.0, 0.0, 1.0],\n",
              "  [0.73, 0.0, 0.0, 0.0, 0.0, 0.62, 0.09, 0.0, 0.36, 0.21],\n",
              "  [0.29, 0.88, 0.0, 0.0, 0.0, 0.0, 0.32, 0.0, 0.13, 0.4],\n",
              "  [0.38, 0.97, 0.15, 0.02, 1.0, 0.0, 0.65, 0.21, 0.53, 0.0],\n",
              "  [0.0, 0.8, 0.44, 0.98, 0.41, 0.14, 0.0, 0.32, 0.18, 0.0],\n",
              "  [0.34, 0.0, 1.0, 0.0, 0.0, 0.88, 0.37, 0.0, 0.68, 0.16],\n",
              "  [0.24, 0.0, 0.0, 0.4, 0.04, 0.3, 0.5, 0.5, 0.0, 0.4],\n",
              "  [0.0, 0.23, 0.23, 0.28, 0.3, 0.38, 0.0, 0.0, 0.11, 0.0]],\n",
              " [[0.0, 0.0, 0.03, 0.02, 0.0, 0.0, 0.0, 0.0, 0.0, 0.3],\n",
              "  [0.0, 0.0, 0.0, 0.43, 0.09, 0.0, 0.0, 0.15, 0.22, 0.29],\n",
              "  [0.16, 0.0, 0.0, 0.08, 0.26, 0.0, 0.0, 0.18, 0.0, 0.0],\n",
              "  [0.0, 0.13, 0.65, 0.0, 0.06, 0.01, 0.09, 0.0, 0.13, 0.02],\n",
              "  [0.0, 0.15, 0.09, 0.0, 0.0, 0.25, 0.03, 0.54, 0.21, 0.18],\n",
              "  [0.0, 0.0, 0.37, 0.01, 0.32, 0.0, 0.0, 0.01, 0.0, 0.09],\n",
              "  [0.11, 0.12, 0.0, 0.09, 0.0, 0.0, 0.0, 0.0, 0.1, 0.21],\n",
              "  [0.0, 0.1, 0.08, 0.17, 0.0, 0.13, 0.0, 0.0, 0.0, 0.06],\n",
              "  [0.0, 0.03, 0.0, 0.03, 0.0, 0.02, 0.04, 0.11, 0.0, 0.0],\n",
              "  [0.0, 0.14, 0.42, 0.01, 0.02, 0.03, 0.06, 0.04, 0.0, 0.0]],\n",
              " [[0.0, 0.02, 0.0, 0.0, 0.0, 0.12, 0.0, 0.09, 0.0, 0.0],\n",
              "  [0.47, 0.0, 0.0, 0.19, 0.0, 0.18, 0.01, 0.0, 0.0, 0.09],\n",
              "  [0.0, 0.51, 0.0, 0.17, 0.0, 0.0, 0.0, 0.0, 0.16, 0.0],\n",
              "  [0.07, 0.48, 0.0, 0.0, 0.17, 0.53, 0.55, 0.21, 0.0, 0.04],\n",
              "  [0.0, 0.17, 0.0, 0.5, 0.0, 0.13, 0.11, 0.0, 0.0, 0.0],\n",
              "  [0.0, 0.05, 0.21, 0.46, 0.54, 0.0, 0.03, 0.0, 0.04, 0.0],\n",
              "  [0.08, 0.09, 0.03, 0.11, 0.51, 0.68, 0.0, 0.24, 0.0, 0.0],\n",
              "  [0.02, 0.33, 0.04, 0.21, 0.0, 0.0, 0.0, 0.0, 0.0, 0.44],\n",
              "  [0.0, 0.0, 0.09, 0.0, 0.0, 0.11, 0.0, 0.0, 0.0, 0.31],\n",
              "  [0.0, 0.14, 0.0, 0.12, 0.04, 0.0, 0.09, 0.55, 0.0, 0.0]]]"
            ]
          },
          "metadata": {},
          "execution_count": 69
        }
      ]
    },
    {
      "cell_type": "code",
      "source": [
        "# Getting average of each average branch matrix\n",
        "\n",
        "# Creating a matrix of averages for each of branches\n",
        "average_of_average_branch_matrixes = []\n",
        "for i in range(length_of_a_matrix):\n",
        "  row = [0 for j in range(length_of_a_matrix)]\n",
        "  average_of_average_branch_matrixes.append(row)\n",
        "\n",
        "average_graph_count = len(average_branch_matrixes)\n",
        "\n",
        "for row in range(length_of_a_matrix):\n",
        "  for col in range(length_of_a_matrix):\n",
        "    for matrix in (average_branch_matrixes):\n",
        "      average_of_average_branch_matrixes[row][col] += matrix[row][col]\n",
        "    average_of_average_branch_matrixes[row][col] = average_of_average_branch_matrixes[row][col] / average_graph_count"
      ],
      "metadata": {
        "id": "WTCrTxbcUl0R"
      },
      "execution_count": null,
      "outputs": []
    },
    {
      "cell_type": "code",
      "source": [
        "# Calculating the TP, TN, FP and FN\n",
        "# Todo: reading the gold matrix from the file\n",
        "\n",
        "gold_matrix = [[0,0,1,1,1,0,0,0,0,0],\n",
        "          [0,0,0,0,0,0,0,0,0,0],\n",
        "          [0,0,0,1,0,0,1,0,0,0],\n",
        "          [0,0,1,0,0,0,0,0,0,0],\n",
        "          [0,0,0,0,0,0,0,0,0,0],\n",
        "          [0,1,0,0,0,0,0,0,0,0],\n",
        "          [0,0,1,1,0,0,0,0,0,0],\n",
        "          [0,1,0,0,0,1,0,0,0,0],\n",
        "          [0,0,0,0,0,0,0,0,0,1],\n",
        "          [0,0,1,1,0,0,0,0,0,0]]"
      ],
      "metadata": {
        "id": "nqu8li6gTBZX"
      },
      "execution_count": null,
      "outputs": []
    },
    {
      "cell_type": "code",
      "source": [
        "depen_gold = dependency_finder(gold_matrix)\n",
        "lhs, b = likelihood_calculation(discreted_dataset_10, depen_gold)\n",
        "LH_genes_multiplier(lhs)"
      ],
      "metadata": {
        "colab": {
          "base_uri": "https://localhost:8080/"
        },
        "id": "7kGxiKQo0lE_",
        "outputId": "e706712d-add9-44e8-802b-23bd1b26a9ac"
      },
      "execution_count": null,
      "outputs": [
        {
          "output_type": "execute_result",
          "data": {
            "text/plain": [
              "-47.09819814741001"
            ]
          },
          "metadata": {},
          "execution_count": 103
        }
      ]
    },
    {
      "cell_type": "code",
      "source": [
        "def comaring_measures(average_matrix, true_matrix, treshold):\n",
        "  # Calculate true positives (TP), true negatives (TN), false positives (FP),\n",
        "  # false negatives (FN)\n",
        "  # Note: we supose that having egde is our measure\n",
        "\n",
        "  # Discreting the average graph by teshold\n",
        "  import copy\n",
        "  ave_matrix = copy.deepcopy(average_matrix)\n",
        "\n",
        "  for row_index, row in enumerate(ave_matrix):\n",
        "    for col_index, col in enumerate(row):\n",
        "      if ave_matrix[row_index][col_index] >= treshold:\n",
        "        ave_matrix[row_index][col_index] = 1\n",
        "      else:\n",
        "        ave_matrix[row_index][col_index] = 0\n",
        "\n",
        "  # print(ave_matrix)\n",
        "  # calcualating measures\n",
        "  tp = 0\n",
        "  tn = 0\n",
        "  fp = 0\n",
        "  fn = 0\n",
        "\n",
        "  for row_index, row in enumerate(ave_matrix):\n",
        "    for col_index, col in enumerate(row):\n",
        "      if ave_matrix[row_index][col_index] == 1 and true_matrix[row_index][col_index] == 1:\n",
        "        tp += 1\n",
        "      if ave_matrix[row_index][col_index] == 0 and true_matrix[row_index][col_index] == 0:\n",
        "        tn += 1\n",
        "      if ave_matrix[row_index][col_index] == 1 and true_matrix[row_index][col_index] == 0:\n",
        "        fp += 1\n",
        "      if ave_matrix[row_index][col_index] == 0 and true_matrix[row_index][col_index] == 1:\n",
        "        fn += 1\n",
        "\n",
        "  return tp, tn, fp, fn"
      ],
      "metadata": {
        "id": "ckedX58157Gg"
      },
      "execution_count": null,
      "outputs": []
    },
    {
      "cell_type": "code",
      "source": [
        "treshold = 0.3\n",
        "tp, tn, fp, fn = comaring_measures(average_of_average_branch_matrixes, gold_matrix, treshold)"
      ],
      "metadata": {
        "id": "kAF9d3y06brn"
      },
      "execution_count": null,
      "outputs": []
    },
    {
      "cell_type": "code",
      "source": [
        "print(f\"True Positives  (TP)  = {tp} ({tp / (len(gold_matrix) * len(gold_matrix))})\")\n",
        "print(f\"True Negatives  (TN)  = {tn} ({tn / (len(gold_matrix) * len(gold_matrix))})\")\n",
        "print(f\"False Positives (FP)  = {fp} ({fp / (len(gold_matrix) * len(gold_matrix))})\")\n",
        "print(f\"False Negatives (FN)  = {fn} ({fn / (len(gold_matrix) * len(gold_matrix))})\")"
      ],
      "metadata": {
        "colab": {
          "base_uri": "https://localhost:8080/"
        },
        "id": "uo1A8ljyy4zt",
        "outputId": "9e7cdffd-261a-4226-957f-c0d44a9dc9cf"
      },
      "execution_count": null,
      "outputs": [
        {
          "output_type": "stream",
          "name": "stdout",
          "text": [
            "True Positives  (TP)  = 3 (0.03)\n",
            "True Negatives  (TN)  = 78 (0.78)\n",
            "False Positives (FP)  = 8 (0.08)\n",
            "False Negatives (FN)  = 11 (0.11)\n"
          ]
        }
      ]
    },
    {
      "cell_type": "code",
      "source": [
        "def roc_calculator(y_true, y_scores):\n",
        "  # This function is for calculating false positive rate (FPR),\n",
        "  # true positive rate (TPR),\n",
        "\n",
        "  from sklearn.metrics import roc_curve, roc_auc_score\n",
        "  import matplotlib.pyplot as plt\n",
        "\n",
        "  # Flatten the arrays\n",
        "  y_true_flattened = [label for sublist in y_true for label in sublist]\n",
        "  y_scores_flattened = [score for sublist in y_scores for score in sublist]\n",
        "\n",
        "  # Calculate the false positive rate (FPR), true positive rate (TPR), and threshold values\n",
        "  fpr, tpr, thresholds = roc_curve(y_true_flattened, y_scores_flattened)\n",
        "\n",
        "  # Calculate the area under the ROC curve (AUC)\n",
        "  auc = roc_auc_score(y_true_flattened, y_scores_flattened)\n",
        "\n",
        "  return auc, fpr, tpr, thresholds"
      ],
      "metadata": {
        "id": "ENd2nKDp4Sk5"
      },
      "execution_count": null,
      "outputs": []
    },
    {
      "cell_type": "code",
      "source": [
        "auc, fpr, tpr, thresholds = roc_calculator(gold_matrix, average_of_average_branch_matrixes)\n",
        "# Plot the ROC curve\n",
        "plt.plot(fpr, tpr, label='ROC Curve (AUC = {:.2f})'.format(auc))\n",
        "plt.plot([0, 1], [0, 1], linestyle='--', color='r', label='Random')\n",
        "plt.xlabel('False Positive Rate (FPR)')\n",
        "plt.ylabel('True Positive Rate (TPR)')\n",
        "plt.title('Receiver Operating Characteristic (ROC) Curve')\n",
        "plt.legend()\n",
        "plt.show()"
      ],
      "metadata": {
        "colab": {
          "base_uri": "https://localhost:8080/",
          "height": 472
        },
        "id": "rd6KqVgz3D6U",
        "outputId": "bf799b22-abed-46fb-8326-8ed6c46bd8f8"
      },
      "execution_count": null,
      "outputs": [
        {
          "output_type": "display_data",
          "data": {
            "text/plain": [
              "<Figure size 640x480 with 1 Axes>"
            ],
            "image/png": "[encoded data removed]"
          },
          "metadata": {}
        }
      ]
    },
    {
      "cell_type": "markdown",
      "metadata": {
        "id": "wKfySbSIIus9"
      },
      "source": [
        "## Test field"
      ]
    },
    {
      "cell_type": "code",
      "execution_count": null,
      "metadata": {
        "id": "bhLIvNyUqSG6"
      },
      "outputs": [],
      "source": [
        "test_matrix = [\n",
        "    [0, 1, 1],\n",
        "    [0, 0, 1],\n",
        "    [0, 0, 0]\n",
        "]"
      ]
    },
    {
      "cell_type": "code",
      "execution_count": null,
      "metadata": {
        "colab": {
          "base_uri": "https://localhost:8080/"
        },
        "id": "OspPNXrIqfsJ",
        "outputId": "e89f98ec-c031-43f4-a008-b28153fbeeb6"
      },
      "outputs": [
        {
          "output_type": "execute_result",
          "data": {
            "text/plain": [
              "[[0, 1], [0, 1, 2]]"
            ]
          },
          "metadata": {},
          "execution_count": 17
        }
      ],
      "source": [
        "dependency_finder(test_matrix)"
      ]
    },
    {
      "cell_type": "code",
      "execution_count": null,
      "metadata": {
        "id": "jCTV7cz1I03d"
      },
      "outputs": [],
      "source": [
        "fake_dataset = [\n",
        "    [0, 1, 1, 0],\n",
        "    [1, 1, 0, 0],\n",
        "    [0, 0, 1, 0],\n",
        "    [1, 1, 1, 0]\n",
        "]\n",
        "\n",
        "fake_graph = [\n",
        "    [0, 1, 1, 0],\n",
        "    [0, 0, 1, 0],\n",
        "    [0, 0, 0, 1],\n",
        "    [1, 0, 0, 0]\n",
        "]"
      ]
    },
    {
      "cell_type": "code",
      "source": [
        "fake_dataset"
      ],
      "metadata": {
        "colab": {
          "base_uri": "https://localhost:8080/"
        },
        "id": "X2L_V5mOERx_",
        "outputId": "7a7f593d-ca4b-4b3e-89e2-fbcf424f4718"
      },
      "execution_count": null,
      "outputs": [
        {
          "output_type": "execute_result",
          "data": {
            "text/plain": [
              "[[0, 1, 1, 0], [1, 1, 0, 0], [0, 0, 1, 0], [1, 1, 1, 0]]"
            ]
          },
          "metadata": {},
          "execution_count": 108
        }
      ]
    },
    {
      "cell_type": "code",
      "execution_count": null,
      "metadata": {
        "id": "rsyM7KYkJoXc"
      },
      "outputs": [],
      "source": [
        "fake_dependencies = dependency_finder(fake_graph)"
      ]
    },
    {
      "cell_type": "code",
      "source": [
        "all_up_dependecies_states = []\n",
        "\n",
        "for depen in fake_dependencies:\n",
        "  states_up = []\n",
        "  for test in fake_dataset:\n",
        "    state = sequence_extractor(depen, test)\n",
        "\n",
        "    if state not in states_up:\n",
        "      states_up.append(state)\n",
        "  all_up_dependecies_states.append(states_up)\n",
        "\n",
        "# Finding different states of each dependency (for the denominator)\n",
        "# creating a list of lists for each graph dependency:\n",
        "all_down_dependecies_states = []\n",
        "\n",
        "for depen in fake_dependencies:\n",
        "  states_down = []\n",
        "  depen_just_parents = depen[:-1]\n",
        "  for test in fake_dataset:\n",
        "    state = sequence_extractor(depen_just_parents, test)\n",
        "\n",
        "    if state not in states_down:\n",
        "      states_down.append(state)\n",
        "  all_down_dependecies_states.append(states_down)"
      ],
      "metadata": {
        "id": "SFsYLFr8wPa4"
      },
      "execution_count": null,
      "outputs": []
    },
    {
      "cell_type": "code",
      "source": [
        "all_down_dependecies_states"
      ],
      "metadata": {
        "colab": {
          "base_uri": "https://localhost:8080/"
        },
        "id": "1zPYQ3hF0V4Q",
        "outputId": "a7b7bfcc-eddc-4f06-e6e1-107598bfee72"
      },
      "execution_count": null,
      "outputs": [
        {
          "output_type": "execute_result",
          "data": {
            "text/plain": [
              "[[[0], [1]], [[0, 1], [1, 1], [0, 0]], [[1], [0]], [[0]]]"
            ]
          },
          "metadata": {},
          "execution_count": 28
        }
      ]
    },
    {
      "cell_type": "code",
      "execution_count": null,
      "metadata": {
        "colab": {
          "base_uri": "https://localhost:8080/"
        },
        "id": "h7tiHMcqJ5zr",
        "outputId": "17f8945e-1389-461f-ad50-1dce29a9093c"
      },
      "outputs": [
        {
          "output_type": "execute_result",
          "data": {
            "text/plain": [
              "[[0, 1], [0, 1, 2], [2, 3], [3, 0]]"
            ]
          },
          "metadata": {},
          "execution_count": 20
        }
      ],
      "source": [
        "fake_dependencies\n",
        "\n",
        "# Checked"
      ]
    },
    {
      "cell_type": "code",
      "source": [
        "states_counts_up = []\n",
        "for _, up_states in enumerate(all_up_dependecies_states):\n",
        "  depen = fake_dependencies[_]\n",
        "  depen_state_counters = []\n",
        "  for up_st in up_states:\n",
        "    counter = 0\n",
        "    for test in fake_dataset:\n",
        "      temp = sequence_extractor(depen, test)\n",
        "      if temp == up_st:\n",
        "        counter += 1\n",
        "    depen_state_counters.append([counter, up_st[:-1]])\n",
        "  depen_state_counters.append(depen[-1])\n",
        "  states_counts_up.append(depen_state_counters)"
      ],
      "metadata": {
        "id": "w16KxPIN1fEP"
      },
      "execution_count": null,
      "outputs": []
    },
    {
      "cell_type": "code",
      "source": [
        "all_up_dependecies_states"
      ],
      "metadata": {
        "colab": {
          "base_uri": "https://localhost:8080/"
        },
        "id": "FsAW-xouwiKM",
        "outputId": "94631ce5-f4e3-43dd-fb5f-1d0cfb11c7dc"
      },
      "execution_count": null,
      "outputs": [
        {
          "output_type": "execute_result",
          "data": {
            "text/plain": [
              "[[[0, 1], [1, 1], [0, 0]],\n",
              " [[0, 1, 1], [1, 1, 0], [0, 0, 1], [1, 1, 1]],\n",
              " [[1, 0], [0, 0]],\n",
              " [[0, 0], [0, 1]]]"
            ]
          },
          "metadata": {},
          "execution_count": 22
        }
      ]
    },
    {
      "cell_type": "code",
      "source": [
        "states_counts_up"
      ],
      "metadata": {
        "colab": {
          "base_uri": "https://localhost:8080/"
        },
        "id": "C_HPl4L2182_",
        "outputId": "d7a12ff1-cfae-495e-9c44-26445ba51b32"
      },
      "execution_count": null,
      "outputs": [
        {
          "output_type": "execute_result",
          "data": {
            "text/plain": [
              "[[[1, [0]], [2, [1]], [1, [0]], 1],\n",
              " [[1, [0, 1]], [1, [1, 1]], [1, [0, 0]], [1, [1, 1]], 2],\n",
              " [[3, [1]], [1, [0]], 3],\n",
              " [[2, [0]], [2, [0]], 0]]"
            ]
          },
          "metadata": {},
          "execution_count": 30
        }
      ]
    },
    {
      "cell_type": "code",
      "execution_count": null,
      "metadata": {
        "id": "SHSAI7LIJ4Sh"
      },
      "outputs": [],
      "source": [
        "genes_likelihood, states_down = likelihood_calculation(fake_dataset, fake_dependencies)"
      ]
    },
    {
      "cell_type": "code",
      "execution_count": null,
      "metadata": {
        "colab": {
          "base_uri": "https://localhost:8080/"
        },
        "id": "T7WjxlJ0TGRI",
        "outputId": "179974b2-c6be-4e78-af14-a11214d8c6e1"
      },
      "outputs": [
        {
          "output_type": "execute_result",
          "data": {
            "text/plain": [
              "[[0.25, 1], [0.25, 2], [1.0, 3], [0.0625, 0]]"
            ]
          },
          "metadata": {},
          "execution_count": 35
        }
      ],
      "source": [
        "genes_likelihood"
      ]
    },
    {
      "cell_type": "code",
      "source": [
        "LH_genes_multiplier(genes_likelihood)"
      ],
      "metadata": {
        "colab": {
          "base_uri": "https://localhost:8080/"
        },
        "id": "_iHGyJGTY-AI",
        "outputId": "5cb2a009-5953-4985-cfe6-f80a7d389d4c"
      },
      "execution_count": null,
      "outputs": [
        {
          "output_type": "execute_result",
          "data": {
            "text/plain": [
              "-5.545177444479562"
            ]
          },
          "metadata": {},
          "execution_count": 36
        }
      ]
    },
    {
      "cell_type": "code",
      "source": [
        "target = [[0,0,1,1,1,0,0,0,0,0],\n",
        "          [0,0,0,0,0,0,0,0,0,0],\n",
        "          [0,0,0,1,0,0,1,0,0,0],\n",
        "          [0,0,1,0,0,0,0,0,0,0],\n",
        "          [0,0,0,0,0,0,0,0,0,0],\n",
        "          [0,1,0,0,0,0,0,0,0,0],\n",
        "          [0,0,1,1,0,0,0,0,0,0],\n",
        "          [0,1,0,0,0,1,0,0,0,0],\n",
        "          [0,0,0,0,0,0,0,0,0,1],\n",
        "          [0,0,1,1,0,0,0,0,0,0]]"
      ],
      "metadata": {
        "id": "K9A0yQvCnDpx"
      },
      "execution_count": null,
      "outputs": []
    },
    {
      "cell_type": "code",
      "source": [
        "last_accepted_depen_graph = dependency_finder(target)\n",
        "LH_last_accepted_matrix, down_states = likelihood_calculation(discreted_dataset_10, last_accepted_depen_graph)"
      ],
      "metadata": {
        "id": "P4jqiWsgeA96"
      },
      "execution_count": null,
      "outputs": []
    },
    {
      "cell_type": "code",
      "source": [
        "last_accepted_depen_graph"
      ],
      "metadata": {
        "colab": {
          "base_uri": "https://localhost:8080/"
        },
        "id": "u07T6eTXeMzs",
        "outputId": "88f4fcc2-13fd-47f4-f9e5-4467bceecaa2"
      },
      "execution_count": null,
      "outputs": [
        {
          "output_type": "execute_result",
          "data": {
            "text/plain": [
              "[[0, 3, 6, 9, 2], [0, 2, 6, 9, 3], [0, 4], [2, 6], [5, 7, 1], [7, 5], [8, 9]]"
            ]
          },
          "metadata": {},
          "execution_count": 43
        }
      ]
    },
    {
      "cell_type": "code",
      "source": [
        "LH_last_accepted_matrix"
      ],
      "metadata": {
        "colab": {
          "base_uri": "https://localhost:8080/"
        },
        "id": "2t9p3kwaeReb",
        "outputId": "146053da-756e-47d7-fc1d-d7d4b8ca9136"
      },
      "execution_count": null,
      "outputs": [
        {
          "output_type": "execute_result",
          "data": {
            "text/plain": [
              "[[0.14814814814814814, 2],\n",
              " [0.009259259259259259, 3],\n",
              " [0.08192000000000002, 4],\n",
              " [0.06697959533607684, 6],\n",
              " [0.021947873799725647, 1],\n",
              " [0.008393004372570706, 5],\n",
              " [0.0011943936000000002, 9]]"
            ]
          },
          "metadata": {},
          "execution_count": 44
        }
      ]
    },
    {
      "cell_type": "code",
      "source": [
        "LH_genes_multiplier(LH_last_accepted_matrix)"
      ],
      "metadata": {
        "colab": {
          "base_uri": "https://localhost:8080/"
        },
        "id": "OVWJGPCSeT83",
        "outputId": "845ad93d-0ea4-4088-f0ed-94378ebf0384"
      },
      "execution_count": null,
      "outputs": [
        {
          "output_type": "execute_result",
          "data": {
            "text/plain": [
              "-27.126611515662166"
            ]
          },
          "metadata": {},
          "execution_count": 45
        }
      ]
    },
    {
      "cell_type": "code",
      "execution_count": null,
      "metadata": {
        "colab": {
          "base_uri": "https://localhost:8080/"
        },
        "id": "TVtCBKARKnNs",
        "outputId": "2ab97dd2-0e4d-42b8-ce3b-495d76b5b12f"
      },
      "outputs": [
        {
          "data": {
            "text/plain": [
              "[[[1, [0]], [2, [1]], [1, [0]], 1],\n",
              " [[1, [0, 1]], [1, [1, 1]], [1, [0, 0]], [1, [1, 1]], 2],\n",
              " [[3, [1]], [1, [0]], 3],\n",
              " [[2, [0]], [2, [0]], 0]]"
            ]
          },
          "execution_count": 81,
          "metadata": {},
          "output_type": "execute_result"
        }
      ],
      "source": [
        "fup"
      ]
    },
    {
      "cell_type": "code",
      "execution_count": null,
      "metadata": {
        "colab": {
          "base_uri": "https://localhost:8080/"
        },
        "id": "rAnDURCZKo4d",
        "outputId": "e70c635a-3e39-4cb1-b741-ff607c172178"
      },
      "outputs": [
        {
          "data": {
            "text/plain": [
              "[[[2, [0]], [2, [1]], 1],\n",
              " [[1, [0, 1]], [2, [1, 1]], [1, [0, 0]], 2],\n",
              " [[3, [1]], [1, [0]], 3],\n",
              " [[4, [0]], 0]]"
            ]
          },
          "execution_count": 82,
          "metadata": {},
          "output_type": "execute_result"
        }
      ],
      "source": [
        "fdown"
      ]
    },
    {
      "cell_type": "code",
      "execution_count": null,
      "metadata": {
        "colab": {
          "base_uri": "https://localhost:8080/"
        },
        "id": "yAelbL6iKtPF",
        "outputId": "f6b54479-2c30-4b75-e561-7ba7cb053b8c"
      },
      "outputs": [
        {
          "data": {
            "text/plain": [
              "[[[0, 1], [1, 1], [0, 0]],\n",
              " [[0, 1, 1], [1, 1, 0], [0, 0, 1], [1, 1, 1]],\n",
              " [[1, 0], [0, 0]],\n",
              " [[0, 0], [0, 1]]]"
            ]
          },
          "execution_count": 83,
          "metadata": {},
          "output_type": "execute_result"
        }
      ],
      "source": [
        "fdep_up"
      ]
    },
    {
      "cell_type": "code",
      "execution_count": null,
      "metadata": {
        "colab": {
          "base_uri": "https://localhost:8080/"
        },
        "id": "bWKt57BoKuqH",
        "outputId": "13adfecf-9664-4a4b-9b3a-dbcb7f84a5a1"
      },
      "outputs": [
        {
          "data": {
            "text/plain": [
              "[[[0], [1]], [[0, 1], [1, 1], [0, 0]], [[1], [0]], [[0]]]"
            ]
          },
          "execution_count": 84,
          "metadata": {},
          "output_type": "execute_result"
        }
      ],
      "source": [
        "fdep_down"
      ]
    },
    {
      "cell_type": "code",
      "execution_count": null,
      "metadata": {
        "colab": {
          "base_uri": "https://localhost:8080/"
        },
        "id": "9vm-bvpQRjtk",
        "outputId": "0f54e07e-0c99-4c5d-9067-3d91d8d5d447"
      },
      "outputs": [
        {
          "name": "stdout",
          "output_type": "stream",
          "text": [
            "<<add>> has applied to previous matrix, on pose [4, 9]. \n",
            "\n"
          ]
        },
        {
          "data": {
            "text/plain": [
              "[[0, 1, 0, 0, 1, 1, 0, 1, 0, 1],\n",
              " [1, 0, 0, 0, 0, 1, 0, 1, 1, 1],\n",
              " [1, 0, 0, 1, 1, 1, 0, 0, 1, 1],\n",
              " [0, 0, 1, 0, 1, 0, 0, 0, 1, 0],\n",
              " [0, 1, 1, 1, 1, 1, 1, 1, 1, 1],\n",
              " [1, 0, 1, 1, 1, 1, 0, 1, 1, 1],\n",
              " [0, 1, 0, 1, 1, 1, 1, 1, 1, 1],\n",
              " [1, 0, 1, 0, 0, 1, 1, 1, 1, 0],\n",
              " [0, 1, 1, 1, 1, 1, 0, 0, 1, 0],\n",
              " [1, 1, 1, 1, 1, 0, 0, 0, 0, 1]]"
            ]
          },
          "execution_count": 60,
          "metadata": {},
          "output_type": "execute_result"
        }
      ],
      "source": [
        "new_matrix_proposer(init_matrix)"
      ]
    },
    {
      "cell_type": "code",
      "source": [
        "test_mat = [[0, 1, 1, 0, 0, 0, 1, 0, 0, 0],\n",
        " [0, 0, 0, 0, 1, 0, 1, 1, 0, 0],\n",
        " [0, 0, 0, 1, 1, 1, 1, 0, 1, 0],\n",
        " [0, 0, 0, 0, 0, 1, 0, 0, 1, 0],\n",
        " [0, 1, 0, 1, 0, 1, 1, 0, 1, 0],\n",
        " [0, 1, 0, 0, 1, 0, 0, 1, 1, 0],\n",
        " [0, 1, 0, 1, 1, 0, 0, 0, 0, 0],\n",
        " [0, 1, 1, 1, 1, 1, 1, 0, 0, 1],\n",
        " [0, 1, 1, 1, 1, 0, 0, 1, 0, 1],\n",
        " [0, 1, 1, 0, 0, 0, 0, 1, 0, 0]]"
      ],
      "metadata": {
        "id": "uUm4i0Nak8th"
      },
      "execution_count": null,
      "outputs": []
    },
    {
      "cell_type": "code",
      "source": [
        "dep_t = dependency_finder(test_mat)"
      ],
      "metadata": {
        "id": "CmjG84yLlCGG"
      },
      "execution_count": null,
      "outputs": []
    },
    {
      "cell_type": "code",
      "source": [
        "lhs, a = likelihood_calculation(discreted_dataset_10, dep_t)"
      ],
      "metadata": {
        "id": "kloZq4Bck44z"
      },
      "execution_count": null,
      "outputs": []
    },
    {
      "cell_type": "code",
      "source": [
        "lhs"
      ],
      "metadata": {
        "colab": {
          "base_uri": "https://localhost:8080/"
        },
        "id": "rMfeCYpkqz3y",
        "outputId": "acbd186f-0fa7-4f3d-c75f-e3f142bfbdd5"
      },
      "execution_count": null,
      "outputs": [
        {
          "output_type": "execute_result",
          "data": {
            "text/plain": [
              "[[0.0, 1],\n",
              " [-1.3862943611198906, 2],\n",
              " [0.0, 6],\n",
              " [-1.3862943611198906, 4],\n",
              " [0.0, 7],\n",
              " [0.0, 3],\n",
              " [-1.3862943611198906, 5],\n",
              " [-1.3862943611198906, 8],\n",
              " [-2.772588722239781, 9],\n",
              " [-6.931471805599453, 0]]"
            ]
          },
          "metadata": {},
          "execution_count": 40
        }
      ]
    }
  ],
  "metadata": {
    "colab": {
      "provenance": []
    },
    "kernelspec": {
      "display_name": "Python 3",
      "name": "python3"
    },
    "language_info": {
      "name": "python"
    }
  },
  "nbformat": 4,
  "nbformat_minor": 0
}